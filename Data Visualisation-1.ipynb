{
 "cells": [
  {
   "cell_type": "markdown",
   "metadata": {},
   "source": [
    "### Matplotlib"
   ]
  },
  {
   "cell_type": "markdown",
   "metadata": {},
   "source": [
    "### Visualization"
   ]
  },
  {
   "cell_type": "code",
   "execution_count": null,
   "metadata": {},
   "outputs": [],
   "source": [
    "import matplotlib.pyplot as plt \n",
    "import numpy as np"
   ]
  },
  {
   "cell_type": "code",
   "execution_count": null,
   "metadata": {},
   "outputs": [],
   "source": []
  },
  {
   "cell_type": "code",
   "execution_count": null,
   "metadata": {},
   "outputs": [],
   "source": [
    "### Draw a line in a diagram from position (0,10) to position (5,150):\n",
    "xpoints = np.array([1,2])\n",
    "ypoints = np.array([5,10])\n",
    "\n",
    "plt.plot(xpoints, ypoints)\n",
    "plt.show()"
   ]
  },
  {
   "cell_type": "code",
   "execution_count": null,
   "metadata": {},
   "outputs": [],
   "source": [
    "\n",
    "xpoints = np.array([1,20])\n",
    "ypoints = np.array([10,200])\n",
    "plt.plot(xpoints, ypoints)\n",
    "plt.show()\n"
   ]
  },
  {
   "cell_type": "code",
   "execution_count": null,
   "metadata": {},
   "outputs": [],
   "source": [
    "xpoints = np.array([1, 6])\n",
    "ypoint = np.array([4,5])\n",
    "plt.plot(xpoints,ypoint,'o')\n",
    "plt.show()"
   ]
  },
  {
   "cell_type": "code",
   "execution_count": null,
   "metadata": {},
   "outputs": [],
   "source": [
    "ypoints = np.array([3, 8, 1,12,7,9])\n",
    "\n",
    "plt.plot(ypoints,marker='*')\n",
    "plt.show()"
   ]
  },
  {
   "cell_type": "code",
   "execution_count": null,
   "metadata": {},
   "outputs": [],
   "source": [
    "plt.plot(ypoint, marker = 'X')"
   ]
  },
  {
   "cell_type": "code",
   "execution_count": null,
   "metadata": {},
   "outputs": [],
   "source": [
    "ypoints = np.array([3, 8, 1, 10])\n",
    "\n",
    "plt.plot(ypoints, '*'':r')\n",
    "plt.show()"
   ]
  },
  {
   "cell_type": "code",
   "execution_count": null,
   "metadata": {},
   "outputs": [],
   "source": [
    "ypoints = np.array([3, 8, 1, 10])\n",
    "xpoints=np.array([5,6,7,9])\n",
    "plt.plot(xpoints,ypoints, marker = 'o',ms = 10,color='green')\n",
    "plt.show()"
   ]
  },
  {
   "cell_type": "code",
   "execution_count": null,
   "metadata": {},
   "outputs": [],
   "source": [
    "### You can use the keyword argument markeredgecolor or the shorter mec to set the color of the edge of the markers\n",
    "ypoints = np.array([3, 8, 1, 10])\n",
    "\n",
    "plt.plot(ypoints, marker = 'o', ms = 20, mec = 'r')\n",
    "plt.show()"
   ]
  },
  {
   "cell_type": "code",
   "execution_count": null,
   "metadata": {},
   "outputs": [],
   "source": [
    "ypoints = np.array([3, 8, 1, 10])\n",
    "\n",
    "plt.plot(ypoints, marker = 'o', ms = 20,mfc='r',mec='b')\n",
    "plt.show()"
   ]
  },
  {
   "cell_type": "code",
   "execution_count": null,
   "metadata": {},
   "outputs": [],
   "source": [
    "### Use both the mec and mfc arguments to color of the entire marker\n",
    "ypoints = np.array([3, 8, 1, 10])\n",
    "\n",
    "plt.plot(ypoints, marker = 'o', ms = 20, mec = 'y', mfc = 'k')\n",
    "plt.show()"
   ]
  },
  {
   "cell_type": "code",
   "execution_count": null,
   "metadata": {},
   "outputs": [],
   "source": [
    "ypoints = np.array([3, 8, 1, 10])\n",
    "\n",
    "plt.plot(ypoints, linestyle = 'dashed',marker='o', mec = 'hotpink',ms=20,mfc='blue')\n",
    "plt.show()"
   ]
  },
  {
   "cell_type": "code",
   "execution_count": null,
   "metadata": {},
   "outputs": [],
   "source": [
    "plt.plot(ypoints, linestyle = 'dotted',marker=\"o\",ms=25,\n",
    "         mfc=\"green\",mec=\"red\")"
   ]
  },
  {
   "cell_type": "code",
   "execution_count": null,
   "metadata": {},
   "outputs": [],
   "source": [
    "xpoints=np.array([10,20,30])\n",
    "ypoints=np.array([1,2,3])\n",
    "plt.plot(xpoints,ypoints,marker=\"*\",color=\"red\",mfc=\"g\",mec=\"r\",ms=20,linestyle=\"dashed\")"
   ]
  },
  {
   "cell_type": "code",
   "execution_count": null,
   "metadata": {},
   "outputs": [],
   "source": [
    "### You can use the keyword argument linewidth or the shorter lw to change the width of the line.\n",
    "\n",
    "### The value is a floating number, in points\n",
    "ypoints = np.array([3, 8, 1, 10])\n",
    "\n",
    "plt.plot(ypoints, linewidth = '10')\n",
    "plt.show()"
   ]
  },
  {
   "cell_type": "code",
   "execution_count": null,
   "metadata": {},
   "outputs": [],
   "source": [
    "y1 = np.array([3, 8, 1, 10])\n",
    "y2 = np.array([6, 2, 5, 11])\n",
    "\n",
    "plt.plot(y1)\n",
    "plt.plot(y2)\n",
    "\n",
    "plt.show()"
   ]
  },
  {
   "cell_type": "code",
   "execution_count": null,
   "metadata": {},
   "outputs": [],
   "source": [
    "x = np.array([80, 85, 90, 95, 100, 105, 110, 115, 120, 125])\n",
    "y = np.array([240,250, 260, 270, 280, 290, 300, 310, 320, 330])\n",
    "\n",
    "plt.plot(x, y,color=\"r\",linewidth=10)\n",
    "\n",
    "plt.xlabel(\"Average Pulse\",fontsize=10,color=\"red\")\n",
    "plt.ylabel(\"Calorie Burnage\",fontsize=10,color=\"g\")\n",
    "\n",
    "plt.show()"
   ]
  },
  {
   "cell_type": "markdown",
   "metadata": {},
   "source": [
    "With Pyplot, you can use the title() function to set a title for the plot"
   ]
  },
  {
   "cell_type": "code",
   "execution_count": null,
   "metadata": {},
   "outputs": [],
   "source": [
    "x = np.array([80, 85, 90, 95, 100, 105, 110, 115, 120, 125])\n",
    "y = np.array([240, 250, 260, 270, 280, 290, 300, 310, 320, 330])\n",
    "\n",
    "plt.title(\"Sports Watch Data\",loc=\"right\",fontsize=20,color=\"green\")\n",
    "plt.xlabel(\"Average Pulse\",loc=\"left\")\n",
    "plt.ylabel(\"Calorie Burnage\")\n",
    "\n",
    "plt.plot(x, y)\n",
    "plt.show()"
   ]
  },
  {
   "cell_type": "code",
   "execution_count": null,
   "metadata": {},
   "outputs": [],
   "source": [
    "x = np.array([80, 85, 90, 95, 100, 105,115, 120, 125,154])\n",
    "y = np.array([240, 250, 260, 270, 280, 290, 300, 310, 320, 330])\n",
    "\n",
    "plt.title(\"Sports Watch Data\")\n",
    "plt.xlabel(\"Average Pulse\")\n",
    "plt.ylabel(\"Calorie Burnage\")\n",
    "\n",
    "plt.plot(x, y)\n",
    "\n",
    "plt.grid()\n",
    "\n",
    "plt.show()"
   ]
  },
  {
   "cell_type": "code",
   "execution_count": null,
   "metadata": {},
   "outputs": [],
   "source": [
    "### You can use the axis parameter in the grid() function to specify which grid lines to display.\n",
    "\n",
    "### Legal values are: 'x', 'y', and 'both'. Default value is 'both'\n",
    "x = np.array([80, 85, 90, 95, 100, 105, 110, 115, 120, 125])\n",
    "y = np.array([240, 250, 260, 270, 280, 290, 300, 310, 320, 330])\n",
    "\n",
    "plt.title(\"Sports Watch Data\")\n",
    "plt.xlabel(\"Average Pulse\")\n",
    "plt.ylabel(\"Calorie Burnage\")\n",
    "\n",
    "plt.plot(x, y)\n",
    "\n",
    "plt.grid(axis = 'x')\n",
    "\n",
    "plt.show()"
   ]
  },
  {
   "cell_type": "code",
   "execution_count": null,
   "metadata": {},
   "outputs": [],
   "source": [
    "### Display only grid lines for the y-axis\n",
    "x = np.array([80, 85, 90, 95, 100, 105, 110, 115, 120, 125])\n",
    "y = np.array([240, 250, 260, 270, 280, 290, 300, 310, 320, 330])\n",
    "\n",
    "plt.title(\"Sports Watch Data\")\n",
    "plt.xlabel(\"Average Pulse\")\n",
    "plt.ylabel(\"Calorie Burnage\")\n",
    "\n",
    "plt.plot(x, y)\n",
    "\n",
    "plt.grid(axis = 'y')\n",
    "\n",
    "plt.show()"
   ]
  },
  {
   "cell_type": "code",
   "execution_count": null,
   "metadata": {},
   "outputs": [],
   "source": [
    "### Set Line Properties for the Grid\n",
    "### You can also set the line properties of the grid, like this: grid\n",
    "                 ### (color = 'color', linestyle = 'linestyle', linewidth = number).\n",
    "x = np.array([80, 85, 90, 95, 100, 105, 110, 115, 120, 125])\n",
    "y = np.array([240, 250, 260, 270, 280, 290, 300, 310, 320, 330])\n",
    "\n",
    "plt.title(\"Sports Watch Data\")\n",
    "plt.xlabel(\"Average Pulse\")\n",
    "plt.ylabel(\"Calorie Burnage\")\n",
    "\n",
    "plt.plot(x, y)\n",
    "\n",
    "plt.grid(color = 'green', linestyle = '--', linewidth = 1.5)\n",
    "\n",
    "plt.show()"
   ]
  },
  {
   "cell_type": "code",
   "execution_count": null,
   "metadata": {},
   "outputs": [],
   "source": [
    "import matplotlib.pyplot as plt\n",
    "import numpy as np"
   ]
  },
  {
   "cell_type": "code",
   "execution_count": null,
   "metadata": {},
   "outputs": [],
   "source": [
    "#plot 1:\n",
    "x = np.array([0, 1, 2, 3])\n",
    "y = np.array([3, 8, 1, 10])\n",
    "\n",
    "plt.subplot(2,1, 1)\n",
    "plt.plot(x,y)\n",
    "\n",
    "#plot 2:\n",
    "x = np.array([0, 1, 2, 3])\n",
    "y = np.array([10, 20, 30, 40])\n",
    "\n",
    "plt.subplot(2,1,2)\n",
    "plt.plot(x,y)\n",
    "\n",
    "plt.show()"
   ]
  },
  {
   "cell_type": "markdown",
   "metadata": {},
   "source": [
    "### The subplots() function takes three arguments that describes the layout of the figure.\n",
    "\n",
    "### The layout is organized in rows and columns, which are represented by the first and second argument.\n",
    "\n",
    "### The third argument represents the index of the current plot.\n",
    "plt.subplot(1, 2, 1)\n",
    "#the figure has 1 row, 2 columns, and this plot is the first plot.\n",
    "plt.subplot(1, 2, 2)\n",
    "#the figure has 1 row, 2 columns, and this plot is the second plot."
   ]
  },
  {
   "cell_type": "code",
   "execution_count": null,
   "metadata": {},
   "outputs": [],
   "source": [
    "#plot 1:\n",
    "x = np.array([0, 1, 2, 3])\n",
    "y = np.array([3, 8, 1, 10])\n",
    "\n",
    "plt.subplot(2, 1,1)\n",
    "plt.plot(x,y)\n",
    "\n",
    "#plot 2:\n",
    "x = np.array([0, 1, 2, 3])\n",
    "y = np.array([10, 20, 30, 40])\n",
    "\n",
    "plt.subplot(2, 1,2)\n",
    "plt.plot(x,y)\n",
    "\n",
    "plt.show()"
   ]
  },
  {
   "cell_type": "code",
   "execution_count": null,
   "metadata": {},
   "outputs": [],
   "source": [
    "x = np.array([0, 1, 2, 3])\n",
    "y = np.array([3, 8, 1, 10])\n",
    "\n",
    "plt.subplot(2, 3, 1)\n",
    "plt.plot(x,y)\n",
    "\n",
    "x = np.array([0, 1, 2, 3])\n",
    "y = np.array([10, 20, 30, 40])\n",
    "\n",
    "plt.subplot(2, 3, 2)\n",
    "plt.plot(x,y)\n",
    "\n",
    "x = np.array([0, 1, 2, 3])\n",
    "y = np.array([3, 8, 1, 10])\n",
    "\n",
    "plt.subplot(2, 3, 3)\n",
    "plt.plot(x,y)\n",
    "\n",
    "x = np.array([0, 1, 2, 3])\n",
    "y = np.array([10, 20, 30, 40])\n",
    "\n",
    "plt.subplot(2, 3, 4)\n",
    "plt.plot(x,y)\n",
    "\n",
    "x = np.array([0, 1, 2, 3])\n",
    "y = np.array([3, 8, 1, 10])\n",
    "\n",
    "plt.subplot(2, 3, 5)\n",
    "plt.plot(x,y)\n",
    "\n",
    "x = np.array([0, 1, 2, 3])\n",
    "y = np.array([10, 20, 30, 40])\n",
    "\n",
    "plt.subplot(2, 3, 6)\n",
    "plt.plot(x,y)\n",
    "\n",
    "plt.show()"
   ]
  },
  {
   "cell_type": "code",
   "execution_count": null,
   "metadata": {},
   "outputs": [],
   "source": [
    "### You can add a title to each plot with the title() function\n",
    "x = np.array([0, 1, 2, 3])\n",
    "y = np.array([3, 8, 1, 10])\n",
    "\n",
    "plt.subplot(1, 2, 1)\n",
    "plt.plot(x,y)\n",
    "plt.title(\"SALES\")\n",
    "\n",
    "#plot 2:\n",
    "x = np.array([0, 1, 2, 3])\n",
    "y = np.array([10, 20, 30, 40])\n",
    "\n",
    "plt.subplot(1, 2, 2)\n",
    "plt.plot(x,y)\n",
    "plt.title(\"INCOME\")\n",
    "\n",
    "plt.show()"
   ]
  },
  {
   "cell_type": "code",
   "execution_count": null,
   "metadata": {},
   "outputs": [],
   "source": [
    "### You can add a title to the entire figure with the suptitle() function:\n",
    "#plot 1:\n",
    "x = np.array([0, 1, 2, 3])\n",
    "y = np.array([3, 8, 1, 10])\n",
    "\n",
    "plt.subplot(1, 2, 1)\n",
    "plt.plot(x,y)\n",
    "plt.title(\"SALES\")\n",
    "#plot 2:\n",
    "x = np.array([0, 1, 2, 3])\n",
    "y = np.array([10, 20, 30, 40])\n",
    "\n",
    "plt.subplot(1, 2, 2)\n",
    "plt.plot(x,y)\n",
    "plt.title(\"INCOME\")\n",
    "\n",
    "plt.suptitle(\"MY SHOP\")\n",
    "plt.show()"
   ]
  },
  {
   "cell_type": "code",
   "execution_count": null,
   "metadata": {},
   "outputs": [],
   "source": [
    "x=np.array([1,2,3,4,5])\n",
    "y=np.array([5,10,15,20,25])\n",
    "plt.scatter(x,y)"
   ]
  },
  {
   "cell_type": "code",
   "execution_count": null,
   "metadata": {},
   "outputs": [],
   "source": [
    "x=np.array([1,2,3,4,5])\n",
    "y=np.array([25,20,15,10,5])\n",
    "plt.scatter(x,y)"
   ]
  },
  {
   "cell_type": "code",
   "execution_count": null,
   "metadata": {},
   "outputs": [],
   "source": [
    "### With Pyplot, you can use the scatter() function to draw a scatter plot.\n",
    "\n",
    "## The scatter() function plots one dot for each observation. It needs two arrays of the same length, \n",
    "## one for the values of the x-axis, and one for values on the y-axis.\n",
    "x = np.array([5,7,8,7,2,17,2,9,4,11,12,9,6])\n",
    "y = np.array([23,12,45,23,86,103,87,94,78,77,85,86,12])\n",
    "\n",
    "plt.scatter(x, y)\n",
    "plt.show()"
   ]
  },
  {
   "cell_type": "code",
   "execution_count": null,
   "metadata": {},
   "outputs": [],
   "source": [
    "#day one, the age and speed of 13 cars:\n",
    "x = np.array([5,7,8,7,2,17,2,9,4,11,12,9,6])\n",
    "y = np.array([99,86,87,88,111,86,103,87,94,78,77,85,86])\n",
    "plt.scatter(x, y)\n",
    "\n",
    "#day two, the age and speed of 15 cars:\n",
    "x = np.array([2,2,8,1,15,8,12,9,7,3,11,4,7,14,12])\n",
    "y = np.array([100,105,84,105,90,99,90,95,94,100,79,112,91,80,85])\n",
    "plt.scatter(x, y)\n",
    "\n",
    "plt.show()"
   ]
  },
  {
   "cell_type": "code",
   "execution_count": null,
   "metadata": {},
   "outputs": [],
   "source": [
    "### By comparing the two plots, I think it is safe to say that they both gives us the same conclusion\n",
    "###  the newer the car, the faster it drives\n",
    "x = np.array([5,7,8,7,2,17,2,9,4,11,12,9,6])\n",
    "y = np.array([99,86,87,88,111,86,103,87,94,78,77,85,86])\n",
    "plt.scatter(x, y, color = 'hotpink')\n",
    "\n",
    "x = np.array([2,2,8,1,15,8,12,9,7,3,11,4,7,14,12])\n",
    "y = np.array([100,105,84,105,90,99,90,95,94,100,79,112,91,80,85])\n",
    "plt.scatter(x, y, color = 'green')\n",
    "\n",
    "plt.show()"
   ]
  },
  {
   "cell_type": "code",
   "execution_count": null,
   "metadata": {},
   "outputs": [],
   "source": [
    "x=np.array([1,2,3,4,5])\n",
    "y=np.array([6,7,8,9,10])\n",
    "colors=([\"red\",\"yellow\",\"black\",\"blue\",\"green\"])\n",
    "size=([10,200,30,40,50])\n",
    "plt.scatter(x,y,c=colors,s=size)\n",
    "plt.show()\n"
   ]
  },
  {
   "cell_type": "code",
   "execution_count": null,
   "metadata": {},
   "outputs": [],
   "source": [
    "### You can even set a specific color for each dot by using an array of colors as value for the c argument.\n",
    "x = np.array([5,7,8,7,2,17,2,9,4,11,12,9,6])\n",
    "y = np.array([99,86,87,88,111,86,103,87,94,78,77,85,86])\n",
    "colors = np.array([\"red\",\"green\",\"blue\",\"yellow\",\"pink\",\"black\",\"orange\",\"purple\",\"beige\",\"brown\",\"gray\",\"cyan\",\"magenta\"])\n",
    "\n",
    "plt.scatter(x, y, c=colors)\n",
    "\n",
    "plt.show()"
   ]
  },
  {
   "cell_type": "code",
   "execution_count": null,
   "metadata": {},
   "outputs": [],
   "source": [
    "import numpy as np\n",
    "import matplotlib.pyplot as plt"
   ]
  },
  {
   "cell_type": "code",
   "execution_count": null,
   "metadata": {},
   "outputs": [],
   "source": [
    "# ColorMap\n",
    "## The Matplotlib module has a number of available colormaps.\n",
    "\n",
    "### A colormap is like a list of colors, where each color has a value that ranges from 0 to 100.\n",
    "\n",
    "#### Here is an example of a colormap:\n",
    "\n",
    "x = np.array([5,7,8,7,2,17,2,9,4,11,12,9,6])\n",
    "y = np.array([99,86,87,88,111,86,87,94,78,77,85,86,13])\n",
    "colors = np.array([0, 10, 20, 30, 40, 45, 50, 55, 60, 70, 80, 90, 100])\n",
    "\n",
    "plt.scatter(x, y, c=colors, cmap='viridis')\n",
    "\n",
    "plt.show()"
   ]
  },
  {
   "cell_type": "code",
   "execution_count": null,
   "metadata": {},
   "outputs": [],
   "source": [
    "### You can include the colormap in the drawing by including the plt.colorbar() statement\n",
    "x = np.array([5,7,8,7,2,17,2,9,4,11,12,9,6])\n",
    "y = np.array([99,86,87,88,111,86,103,87,94,78,77,85,86])\n",
    "colors = np.array([0, 10, 20,30, 40, 45, 50, 55, 60, 70, 80, 90, 100])\n",
    "\n",
    "plt.scatter(x, y, c=colors, cmap='viridis')\n",
    "\n",
    "plt.colorbar()\n",
    "\n",
    "plt.show()"
   ]
  },
  {
   "cell_type": "code",
   "execution_count": null,
   "metadata": {},
   "outputs": [],
   "source": [
    "x = np.array([5,7,8,7,2,17,2,9,4,11,12,9,6])\n",
    "y = np.array([99,86,87,88,111,86,103,87,94,78,77,85,86])\n",
    "sizes = np.array([20,50,100,200,500,1000,60,90,10,300,600,800,75])\n",
    "colors=np.array([1,2,3,4,5,6,7,8,9,10,11,12,13])\n",
    "plt.scatter(x, y, s=sizes,c=colors)\n",
    "plt.colorbar()\n",
    "plt.show()"
   ]
  },
  {
   "cell_type": "code",
   "execution_count": null,
   "metadata": {},
   "outputs": [],
   "source": [
    "### Alpha :You can adjust the transparency of the dots with the alpha argument.\n",
    "\n",
    "### Just like colors, make sure the array for sizes has the same length as the arrays for the x- and y-axis.\n",
    "x = np.array([5,7,8,7,2,17,2,9,4,11,12,9,6])\n",
    "y = np.array([99,86,87,88,111,86,103,87,94,78,77,85,86])\n",
    "sizes = np.array([20,50,100,200,500,1000,60,90,10,300,600,800,75])\n",
    "plt.scatter(x, y, s=sizes, alpha=0.5,color=\"r\")\n",
    "\n",
    "plt.show()"
   ]
  },
  {
   "cell_type": "code",
   "execution_count": null,
   "metadata": {},
   "outputs": [],
   "source": [
    "x = np.random.randint(100, size=(100))\n",
    "y = np.random.randint(100, size=(100))\n",
    "colors = np.random.randint(100, size=(100))\n",
    "sizes = 10 * np.random.randint(100, size=(100))\n",
    "\n",
    "plt.scatter(x, y, c=colors, s=sizes, alpha=0.5, cmap='nipy_spectral')\n",
    "\n",
    "plt.colorbar()\n",
    "\n",
    "plt.show()"
   ]
  },
  {
   "cell_type": "code",
   "execution_count": null,
   "metadata": {},
   "outputs": [],
   "source": [
    "import numpy as np\n",
    "import matplotlib.pyplot as plt"
   ]
  },
  {
   "cell_type": "code",
   "execution_count": null,
   "metadata": {},
   "outputs": [],
   "source": [
    "x = np.array([\"A\", \"B\", \"C\", \"D\"])\n",
    "y = np.array([3, 8,1,10])\n",
    "\n",
    "plt.bar(x,y)\n",
    "plt.show()"
   ]
  },
  {
   "cell_type": "code",
   "execution_count": null,
   "metadata": {},
   "outputs": [],
   "source": [
    "### If you want the bars to be displayed horizontally instead of vertically, use the barh() function.\n",
    "import matplotlib.pyplot as plt\n",
    "import numpy as np\n",
    "\n",
    "x = np.array([\"A\", \"B\", \"C\", \"D\"])\n",
    "y = np.array([3, 8, 1, 10])\n",
    "\n",
    "plt.barh(x, y)\n",
    "plt.show()"
   ]
  },
  {
   "cell_type": "code",
   "execution_count": null,
   "metadata": {},
   "outputs": [],
   "source": [
    "### The bar() and barh() takes the keyword argument color to set the color of the bars\n",
    "x = np.array([\"A\", \"B\", \"C\", \"D\"])\n",
    "y = np.array([3, 8, 1, 10])\n",
    "\n",
    "plt.bar(x, y, color = \"red\")\n",
    "plt.show()"
   ]
  },
  {
   "cell_type": "code",
   "execution_count": null,
   "metadata": {},
   "outputs": [],
   "source": [
    "x = np.array([\"A\", \"B\", \"C\", \"D\"])\n",
    "y = np.array([3, 8, 1, 10])\n",
    "\n",
    "plt.bar(x, y, width = 0.1)\n",
    "plt.show()"
   ]
  },
  {
   "cell_type": "code",
   "execution_count": null,
   "metadata": {},
   "outputs": [],
   "source": [
    "## The barh() takes the keyword argument height to set the height of the bars\n",
    "x = np.array([\"A\", \"B\", \"C\", \"D\"])\n",
    "y = np.array([3, 8, 1, 10])\n",
    "\n",
    "plt.barh(x, y, height = 0.1)\n",
    "plt.show()"
   ]
  },
  {
   "cell_type": "code",
   "execution_count": null,
   "metadata": {
    "scrolled": true
   },
   "outputs": [],
   "source": [
    "x = np.random.normal(170,10,250)\n",
    "\n",
    "x"
   ]
  },
  {
   "cell_type": "code",
   "execution_count": null,
   "metadata": {},
   "outputs": [],
   "source": [
    "x = np.random.normal(170,10,250)\n",
    "plt.hist(x)\n",
    "plt.show() "
   ]
  },
  {
   "cell_type": "code",
   "execution_count": null,
   "metadata": {},
   "outputs": [],
   "source": [
    "import numpy as np\n",
    "import matplotlib.pyplot as plt"
   ]
  },
  {
   "cell_type": "code",
   "execution_count": null,
   "metadata": {},
   "outputs": [],
   "source": [
    "y = np.array([10, 135, 25, 15,19])\n",
    "\n",
    "plt.pie(y)\n",
    "plt.show() "
   ]
  },
  {
   "cell_type": "code",
   "execution_count": null,
   "metadata": {},
   "outputs": [],
   "source": [
    "### Add labels to the pie chart with the label parameter.\n",
    "\n",
    "### The label parameter must be an array with one label for each wedge\n",
    "y = np.array([18, 25,15,10])\n",
    "mylabels = [\"Cherries\",\"Apples\", \"Bananas\",\"Dates\"]\n",
    "\n",
    "plt.pie(y, labels = mylabels)\n",
    "plt.show() "
   ]
  },
  {
   "cell_type": "code",
   "execution_count": null,
   "metadata": {},
   "outputs": [],
   "source": [
    "### As mentioned the default start angle is at the x-axis, but you can change the start angle \n",
    "### by specifying a startangle parameter.\n",
    "\n",
    "### The startangle parameter is defined with an angle in degrees, default angle is 0:\n",
    "y = np.array([35, 25, 25, 15])\n",
    "mylabels = [\"Apples\", \"Bananas\", \"Cherries\", \"Dates\"]\n",
    "\n",
    "plt.pie(y, labels = mylabels, startangle = 90)\n",
    "plt.show() "
   ]
  },
  {
   "cell_type": "code",
   "execution_count": null,
   "metadata": {},
   "outputs": [],
   "source": [
    "y = np.array([35, 25, 25, 15])\n",
    "mylabels = [\"Apples\", \"Bananas\", \"Cherries\", \"Dates\"]\n",
    "myexplode = [0,0.95, 0.1, 3.2]\n",
    "\n",
    "plt.pie(y, labels = mylabels, explode = myexplode)\n",
    "plt.show() "
   ]
  },
  {
   "cell_type": "code",
   "execution_count": null,
   "metadata": {},
   "outputs": [],
   "source": [
    "y = np.array([35, 25, 25, 15])\n",
    "mylabels = [\"Apples\", \"Bananas\", \"Cherries\", \"Dates\"]\n",
    "mycolors = [\"black\", \"hotpink\", \"b\", \"yellow\"]\n",
    "\n",
    "plt.pie(y, labels = mylabels, colors = mycolors)\n",
    "plt.show() "
   ]
  },
  {
   "cell_type": "code",
   "execution_count": null,
   "metadata": {},
   "outputs": [],
   "source": [
    "y = np.array([35, 25, 25, 15])\n",
    "#mylabels = [\"Apples\", \"Bananas\", \"Cherries\", \"Dates\"]\n",
    "\n",
    "plt.pie(y)\n",
    "plt.legend(labels=mylabels)\n",
    "plt.show() "
   ]
  },
  {
   "cell_type": "code",
   "execution_count": null,
   "metadata": {},
   "outputs": [],
   "source": []
  }
 ],
 "metadata": {
  "kernelspec": {
   "display_name": "Python 3 (ipykernel)",
   "language": "python",
   "name": "python3"
  },
  "language_info": {
   "codemirror_mode": {
    "name": "ipython",
    "version": 3
   },
   "file_extension": ".py",
   "mimetype": "text/x-python",
   "name": "python",
   "nbconvert_exporter": "python",
   "pygments_lexer": "ipython3",
   "version": "3.8.3"
  }
 },
 "nbformat": 4,
 "nbformat_minor": 2
}
